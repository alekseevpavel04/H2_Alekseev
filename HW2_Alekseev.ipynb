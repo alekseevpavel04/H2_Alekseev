{
 "cells": [
  {
   "cell_type": "markdown",
   "metadata": {},
   "source": [
    "### Домашня работа 2.\n",
    "### Логистическая регрессия. Работа с признаками"
   ]
  },
  {
   "cell_type": "markdown",
   "metadata": {},
   "source": [
    "\n",
    "### Оценивание и штрафы\n",
    "Каждая из задач имеет определенную «стоимость» (указана в скобках около задачи). Максимально допустимая оценка за работу — 15 баллов. Можно получить 4.5 бонусных балла.\n",
    "\n",
    "Неэффективная реализация кода может негативно отразиться на оценке."
   ]
  },
  {
   "cell_type": "code",
   "execution_count": 1,
   "metadata": {},
   "outputs": [
    {
     "name": "stdout",
     "output_type": "stream",
     "text": [
      "Всем удачи!👒 Тут она точно пригодится.\n"
     ]
    }
   ],
   "source": [
    "print('Всем удачи!👒 Тут она точно пригодится.')"
   ]
  },
  {
   "cell_type": "code",
   "execution_count": 2,
   "metadata": {
    "ExecuteTime": {
     "end_time": "2019-10-16T18:11:48.202066Z",
     "start_time": "2019-10-16T18:11:46.362572Z"
    }
   },
   "outputs": [
    {
     "name": "stdout",
     "output_type": "stream",
     "text": [
      "%pylab is deprecated, use %matplotlib inline and import the required libraries.\n",
      "Populating the interactive namespace from numpy and matplotlib\n"
     ]
    }
   ],
   "source": [
    "%pylab inline\n",
    "import pandas as pd\n",
    "\n",
    "from sklearn.datasets import make_classification\n",
    "from sklearn.model_selection import train_test_split"
   ]
  },
  {
   "cell_type": "markdown",
   "metadata": {},
   "source": [
    "## Часть 1. Логистическая регрессия своими руками (4 балла)"
   ]
  },
  {
   "cell_type": "markdown",
   "metadata": {
    "ExecuteTime": {
     "end_time": "2018-10-12T07:36:04.765536Z",
     "start_time": "2018-10-12T07:35:57.814973Z"
    }
   },
   "source": [
    "Реализуйте логистическую регрессию, обучаемую с помощью:\n",
    "\n",
    "**Задание 1 (1.5 балла). Градиентного спуска**\n",
    "\n",
    "**Задание 2 (1.5 балла). Стохастического градиентного спуска**\n",
    "\n",
    "Во всех пунктах необходимо соблюдать следующие условия:\n",
    "- Градиентный спуск необходимо записать в векторном виде\n",
    "- Циклы средствами python допускается использовать только для итераций градиентного спуска;\n",
    "- В качестве критерия останова необходимо использовать (одновременно):\n",
    "\n",
    "        проверку на евклидову норму разности весов на двух соседних итерациях (например, меньше некоторого малого числа порядка $10^{-6}$) задаваемого параметром `tolerance`;\n",
    "\n",
    "\n",
    "        достижение максимального числа итераций (например, 10000), задаваемого параметром `max_iter`.\n",
    "\n",
    "Чтобы проследить, что оптимизационный процесс действительно сходится, будем использовать атрибут класса loss_history. В нём после вызова метода fit должны содержаться значения функции потерь для всех итераций, начиная с первой (до совершения первого шага по антиградиенту);\n",
    "\n",
    "Инициализировать веса можно случайным образом или нулевым вектором."
   ]
  },
  {
   "cell_type": "markdown",
   "metadata": {},
   "source": [
    "Полезно [почитать](https://scikit-learn.org/stable/developers/develop.html)."
   ]
  },
  {
   "cell_type": "code",
   "execution_count": 3,
   "metadata": {
    "ExecuteTime": {
     "end_time": "2019-10-16T18:11:50.932537Z",
     "start_time": "2019-10-16T18:11:50.752839Z"
    }
   },
   "outputs": [],
   "source": [
    "import numpy as np\n",
    "from sklearn.base import BaseEstimator\n",
    "\n",
    "class LogReg(BaseEstimator):\n",
    "    def __init__(self, gd_type='stochastic', \n",
    "                 tolerance=1e-6, max_iter=1000, w0=None, eta=1e-2, size=None):\n",
    "        \"\"\"\n",
    "        gd_type: 'full' or 'stochastic' \n",
    "        tolerance: for stopping gradient descent\n",
    "        max_iter: maximum number of steps in gradient descent\n",
    "        w0: np.array of shape (d) — init weights\n",
    "        eta: learning rate\n",
    "        size: int, optional - size of samples for stochastic gradient descent\n",
    "        \"\"\"\n",
    "        self.gd_type = gd_type\n",
    "        self.tolerance = tolerance\n",
    "        self.max_iter = max_iter\n",
    "        self.w0 = w0\n",
    "        self.eta = eta\n",
    "        self.size = size\n",
    "        self.w = None\n",
    "        self.loss_history = None # list of loss function values at each training iteration\n",
    "    \n",
    "    def fit(self, X, y):\n",
    "        self.loss_history = []\n",
    "        if self.w0 is None:\n",
    "            self.w0 = np.random.rand(X.shape[1])\n",
    "        self.w = self.w0.copy()\n",
    "        \n",
    "        for _ in range(self.max_iter):\n",
    "            gradient = self.calc_gradient(X, y)\n",
    "            self.w = self.w - self.eta * gradient\n",
    "            loss = self.calc_loss(X, y)\n",
    "            self.loss_history.append(loss)\n",
    "            \n",
    "            if np.linalg.norm(self.eta * gradient) < self.tolerance:\n",
    "                break\n",
    "        \n",
    "        return self\n",
    "    \n",
    "    def predict_proba(self, X):\n",
    "        if self.w is None:\n",
    "            raise Exception('Not trained yet')\n",
    "        return 1 / (1 + np.exp(-np.dot(X, self.w)))\n",
    "    \n",
    "    def predict(self, X):\n",
    "        if self.w is None:\n",
    "            raise Exception('Not trained yet')\n",
    "        return np.round(self.predict_proba(X))\n",
    "    \n",
    "    def calc_gradient(self, X, y):\n",
    "        if self.gd_type == 'stochastic':\n",
    "            if self.size is None:\n",
    "                self.size = 1  # Устанавливаем значение по умолчанию, если не указано\n",
    "            indices = np.random.choice(X.shape[0], size=self.size)\n",
    "            X_train_np = X.values\n",
    "            x_samples = X_train_np[indices]\n",
    "            y_samples = y[indices]\n",
    "            predictions = self.predict_proba(x_samples)\n",
    "            errors = y_samples - predictions\n",
    "            gradient = -np.dot(x_samples.T, errors) / len(y_samples)\n",
    "        else:\n",
    "            predictions = self.predict_proba(X)\n",
    "            error = y - predictions\n",
    "            gradient = -np.dot(X.T, error) / len(y)\n",
    "    \n",
    "        return gradient\n",
    "\n",
    "    def calc_loss(self, X, y):\n",
    "        predictions = self.predict_proba(X)\n",
    "        epsilon = 1e-15  \n",
    "        loss = -np.mean(y * np.log(predictions + epsilon) + (1 - y) * np.log(1 - predictions + epsilon))\n",
    "        return loss\n"
   ]
  },
  {
   "cell_type": "markdown",
   "metadata": {},
   "source": [
    "Синтетические данные"
   ]
  },
  {
   "cell_type": "code",
   "execution_count": 4,
   "metadata": {},
   "outputs": [
    {
     "name": "stdout",
     "output_type": "stream",
     "text": [
      "%pylab is deprecated, use %matplotlib inline and import the required libraries.\n",
      "Populating the interactive namespace from numpy and matplotlib\n"
     ]
    }
   ],
   "source": [
    "%pylab inline\n",
    "import pandas as pd\n",
    "import time\n",
    "from sklearn.datasets import make_classification\n",
    "from sklearn.model_selection import train_test_split"
   ]
  },
  {
   "cell_type": "code",
   "execution_count": 5,
   "metadata": {},
   "outputs": [],
   "source": [
    "X, y = make_classification(\n",
    "    n_samples=100000, n_features=20, n_informative=10, n_redundant=10,\n",
    "    random_state=42)\n",
    "\n",
    "X = pd.DataFrame(X)\n",
    "\n",
    "X_train, X_test, y_train, y_test = train_test_split(\n",
    "    X, y, test_size=0.3, random_state=42)"
   ]
  },
  {
   "cell_type": "markdown",
   "metadata": {},
   "source": [
    "**Важно:** далее предполагается, что вы используете собственную реализацию логистической регрессии.\n",
    "Если с написанием класса возникли проблемы, используйте реализацию sklearn, чтобы не терять баллы за остальные задания."
   ]
  },
  {
   "cell_type": "markdown",
   "metadata": {},
   "source": [
    "**Задание 3 (1 балл)**\n",
    "\n",
    "Обучите логистическую регрессию на синтетических данных."
   ]
  },
  {
   "cell_type": "code",
   "execution_count": 6,
   "metadata": {
    "ExecuteTime": {
     "end_time": "2018-10-11T20:39:43.088969Z",
     "start_time": "2018-10-11T20:39:43.084985Z"
    }
   },
   "outputs": [
    {
     "name": "stdout",
     "output_type": "stream",
     "text": [
      "Точность модели на тестовом наборе (Градиентный спуск): 0.85\n",
      "Точность модели на тестовом наборе (Стохастический градиентный спуск): 0.85\n",
      "Время выполнения Градиентного спуска: 2.5509 сек.\n",
      "Время выполнения Стохастического градиентного спуска: 1.8440 сек.\n"
     ]
    }
   ],
   "source": [
    "model1 = LogReg(gd_type='full', max_iter=1000, tolerance=1e-6, eta=0.01)\n",
    "model2 = LogReg(gd_type='stochastic', max_iter=1000, tolerance=1e-6, eta=0.01, size = 5)\n",
    "\n",
    "start_time = time.time()\n",
    "model1.fit(X_train, y_train)\n",
    "end_time = time.time()\n",
    "gradient_descent_time = end_time - start_time\n",
    "start_time = time.time()\n",
    "model2.fit(X_train, y_train)\n",
    "end_time = time.time()\n",
    "stochastic_gradient_descent_time = end_time - start_time\n",
    "\n",
    "y_pred1 = model1.predict(X_test)\n",
    "y_pred2 = model2.predict(X_test)\n",
    "\n",
    "\n",
    "accuracy1 = np.mean(y_pred1 == y_test)\n",
    "accuracy2 = np.mean(y_pred2 == y_test)\n",
    "\n",
    "print(f\"Точность модели на тестовом наборе (Градиентный спуск): {accuracy1:.2f}\")\n",
    "print(f\"Точность модели на тестовом наборе (Стохастический градиентный спуск): {accuracy2:.2f}\")\n",
    "\n",
    "# Вывод времени выполнения для каждого метода\n",
    "print(f\"Время выполнения Градиентного спуска: {gradient_descent_time:.4f} сек.\")\n",
    "print(f\"Время выполнения Стохастического градиентного спуска: {stochastic_gradient_descent_time:.4f} сек.\")"
   ]
  },
  {
   "cell_type": "markdown",
   "metadata": {},
   "source": [
    "На тестовой части посчитайте ROC-AUC, PR-AUC. Постройте ROC и PR кривые. Проинтерпретируйте результат."
   ]
  },
  {
   "cell_type": "code",
   "execution_count": 7,
   "metadata": {},
   "outputs": [
    {
     "name": "stdout",
     "output_type": "stream",
     "text": [
      "ROC-AUC (Градиентный спуск): 0.93\n",
      "ROC-AUC (Стохастический градиентный спуск): 0.92\n",
      "PR-AUC (Градиентный спуск): 0.92\n",
      "PR-AUC (Стохастический градиентный спуск): 0.92\n"
     ]
    },
    {
     "data": {
      "image/png": "[encoded data removed]",
      "text/plain": [
       "<Figure size 1000x1000 with 4 Axes>"
      ]
     },
     "metadata": {},
     "output_type": "display_data"
    }
   ],
   "source": [
    "from sklearn.metrics import roc_auc_score, roc_curve, precision_recall_curve, auc\n",
    "import matplotlib.pyplot as plt\n",
    "\n",
    "# Получение вероятностей принадлежности к классу 1 для тестового набора\n",
    "y_prob1 = model1.predict_proba(X_test)\n",
    "y_prob2 = model2.predict_proba(X_test)\n",
    "\n",
    "# Вычисление ROC-AUC\n",
    "roc_auc1 = roc_auc_score(y_test, y_prob1)\n",
    "roc_auc2 = roc_auc_score(y_test, y_prob2)\n",
    "print(f\"ROC-AUC (Градиентный спуск): {roc_auc1:.2f}\")\n",
    "print(f\"ROC-AUC (Стохастический градиентный спуск): {roc_auc2:.2f}\")\n",
    "\n",
    "# Вычисление PR-AUC\n",
    "precision1, recall1, _ = precision_recall_curve(y_test, y_prob1)\n",
    "precision2, recall2, _ = precision_recall_curve(y_test, y_prob2)\n",
    "pr_auc1 = auc(recall1, precision1)\n",
    "pr_auc2 = auc(recall2, precision2)\n",
    "print(f\"PR-AUC (Градиентный спуск): {pr_auc1:.2f}\")\n",
    "print(f\"PR-AUC (Стохастический градиентный спуск): {pr_auc2:.2f}\")\n",
    "\n",
    "fig, axes = plt.subplots(2, 2, figsize=(10, 10))\n",
    "\n",
    "# Построение ROC кривой\n",
    "fpr1, tpr1, _ = roc_curve(y_test, y_prob1)\n",
    "axes[0][0].plot(fpr1, tpr1, label=f'ROC curve (AUC = {roc_auc1:.2f})')\n",
    "axes[0][0].plot([0, 1], [0, 1], 'k--')\n",
    "axes[0][0].set_xlabel('False Positive Rate')\n",
    "axes[0][0].set_ylabel('True Positive Rate')\n",
    "axes[0][0].set_title('Receiver Operating Characteristic (ROC) Curve (Full)')\n",
    "axes[0][0].legend(loc='lower right')\n",
    "\n",
    "fpr2, tpr2, _ = roc_curve(y_test, y_prob2)\n",
    "axes[0][1].plot(fpr2, tpr2, label=f'ROC curve (AUC = {roc_auc2:.2f})')\n",
    "axes[0][1].plot([0, 1], [0, 1], 'k--')\n",
    "axes[0][1].set_xlabel('False Positive Rate')\n",
    "axes[0][1].set_ylabel('True Positive Rate')\n",
    "axes[0][1].set_title('Receiver Operating Characteristic (ROC) Curve (Stochastic)')\n",
    "axes[0][1].legend(loc='lower right')\n",
    "\n",
    "# Построение ROC кривой\n",
    "fpr1, tpr1, _ = roc_curve(y_test, y_prob1)\n",
    "axes[1][0].plot(recall1, precision1, label=f'PR curve (AUC = {pr_auc1:.2f})')\n",
    "axes[1][0].set_xlabel('Recall')\n",
    "axes[1][0].set_ylabel('Precision')\n",
    "axes[1][0].set_title('Precision-Recall (PR) Curve (Full)')\n",
    "axes[1][0].legend(loc='lower left')\n",
    "\n",
    "fpr2, tpr2, _ = roc_curve(y_test, y_prob2)\n",
    "axes[1][1].plot(recall2, precision2, label=f'PR curve (AUC = {pr_auc2:.2f})')\n",
    "axes[1][1].set_xlabel('Recall')\n",
    "axes[1][1].set_ylabel('Precision')\n",
    "axes[1][1].set_title('Precision-Recall (PR) Curve (Stochastic)')\n",
    "axes[1][1].legend(loc='lower left')\n",
    "\n",
    "plt.tight_layout()\n",
    "plt.show()"
   ]
  },
  {
   "cell_type": "markdown",
   "metadata": {},
   "source": [
    "#### Важный комментарий: при реализации я вычислял не по 1 случайному, а по 5, так как мы часто двигались в невероятно неправильном направлении. Можно проверить исходную версию поменяв  \"indices = np.random.choice(X.shape[0], size=5)\" на  \"indices = np.random.choice(X.shape[0], size=1)\". При size = 10 результат уже трудноотличим от варианта \"full\""
   ]
  },
  {
   "cell_type": "markdown",
   "metadata": {},
   "source": [
    "Интерпретация. Градиентный спуск работает, вычисляя градиент функции потерь по параметрам модели для всего набора данных. Он обновляет параметры модели в направлении, противоположном градиенту, с некоторым шагом, называемым скоростью обучения (learning rate). Этот процесс повторяется до тех пор, пока не будет достигнут критерий остановки, такой как сходимость алгоритма или достижение предопределенного числа итераций. Соответственно, стохастический градиентный спуск (SGD) является вариантом градиентного спуска, который использует только один случайный экземпляр данных (или небольшую подвыборку как в моем случае) для вычисления градиента на каждой итерации. Он:\n",
    "1. Быстрее сходится (по времени, не по итерациям), так как использует только часть данных для каждого обновления весов, что уменьшает вычислительную нагрузку.\n",
    "2. При правильной настройке сходится к тому же результату"
   ]
  },
  {
   "cell_type": "markdown",
   "metadata": {},
   "source": [
    "## Часть 2. Работа с категориальными переменными (3 балла)"
   ]
  },
  {
   "cell_type": "markdown",
   "metadata": {},
   "source": [
    "В этой части мы научимся обрабатывать категориальные переменные, так как закодировать их в виде чисел недостаточно (это задаёт некоторый порядок, которого на категориальных переменных может и не быть). Существует два основных способа обработки категориальных значений:\n",
    "- One-hot-кодирование\n",
    "- Счётчики (CTR, mean-target кодирование, ...) — каждый категориальный признак заменяется на среднее значение целевой переменной по всем объектам, имеющим одинаковое значение в этом признаке.\n",
    "\n",
    "Начнём с one-hot-кодирования. Допустим наш категориальный признак $f_j(x)$ принимает значения из множества $C=\\{c_1, \\dots, c_m\\}$. Заменим его на $m$ бинарных признаков $b_1(x), \\dots, b_m(x)$, каждый из которых является индикатором одного из возможных категориальных значений:\n",
    "$$\n",
    "b_i(x) = [f_j(x) = c_i]\n",
    "$$"
   ]
  },
  {
   "cell_type": "markdown",
   "metadata": {
    "ExecuteTime": {
     "end_time": "2018-10-11T20:41:54.913436Z",
     "start_time": "2018-10-11T20:41:54.907515Z"
    }
   },
   "source": [
    "__Подготовка данных.__\n",
    "\n",
    "Загрузим данные с конкурса  [Kaggle Porto Seguro’s Safe Driver Prediction](https://www.kaggle.com/c/porto-seguro-safe-driver-prediction) (вам нужна только обучающая выборка). Задача состоит в определении водителей, которые в ближайший год воспользуются своей автомобильной страховкой (бинарная классификация). Но для нас важна будет не сама задача, а только её данные. При этом для задания мы немного модифицируем датасет."
   ]
  },
  {
   "cell_type": "code",
   "execution_count": 43,
   "metadata": {
    "ExecuteTime": {
     "end_time": "2018-10-12T07:36:04.765536Z",
     "start_time": "2018-10-12T07:35:57.814973Z"
    }
   },
   "outputs": [],
   "source": [
    "data = pd.read_csv('train.csv', index_col=0)\n",
    "target = data.target.values\n",
    "data = data.drop('target', axis=1)"
   ]
  },
  {
   "cell_type": "markdown",
   "metadata": {},
   "source": [
    "Пересемплируем выборку так, чтобы положительных и отрицательных объектов в выборке было одинаковое число. Разделим на обучающую и тестовую выборки.\n"
   ]
  },
  {
   "cell_type": "code",
   "execution_count": 44,
   "metadata": {
    "ExecuteTime": {
     "end_time": "2018-10-12T07:36:05.368407Z",
     "start_time": "2018-10-12T07:36:04.770388Z"
    }
   },
   "outputs": [],
   "source": [
    "# some resampling\n",
    "np.random.seed(910)\n",
    "mask_plus = np.random.choice(np.where(target == 1)[0], 100000, replace=True)\n",
    "mask_zero = np.random.choice(np.where(target == 0)[0], 100000, replace=True)\n",
    "\n",
    "data = pd.concat((data.iloc[mask_plus], data.iloc[mask_zero]))\n",
    "data.reset_index(drop=True, inplace=True)\n",
    "target = np.hstack((target[mask_plus], target[mask_zero]))\n",
    "\n",
    "X_train, X_test, y_train, y_test = train_test_split(data, target, test_size=0.5)"
   ]
  },
  {
   "cell_type": "markdown",
   "metadata": {},
   "source": [
    "# Далее везде значение size будет равно 1"
   ]
  },
  {
   "cell_type": "markdown",
   "metadata": {},
   "source": [
    "**Задание 5 (0 баллов).** Посчитайте качество (в этом задании будем работать c ROC-AUC) на исходных признаках при применении логистической регрессии."
   ]
  },
  {
   "cell_type": "markdown",
   "metadata": {},
   "source": [
    "Как мы помним, метод случайный, поэтому будем замерять время используя несколько итераций"
   ]
  },
  {
   "cell_type": "code",
   "execution_count": 10,
   "metadata": {},
   "outputs": [
    {
     "name": "stderr",
     "output_type": "stream",
     "text": [
      "100%|████████████████████████████████████████████████████████████████████████████████| 100/100 [00:16<00:00,  5.94it/s]"
     ]
    },
    {
     "name": "stdout",
     "output_type": "stream",
     "text": [
      "\n",
      "Average ROC-AUC: 0.5033\n",
      "Average Execution Time: 0.1334 sec\n"
     ]
    },
    {
     "name": "stderr",
     "output_type": "stream",
     "text": [
      "\n"
     ]
    }
   ],
   "source": [
    "import random\n",
    "from tqdm import tqdm\n",
    "# Создаем пустые списки для хранения времени выполнения и метрик ROC-AUC\n",
    "times_3 = []\n",
    "roc_auc_scores_3 = []\n",
    "\n",
    "for i in tqdm(range(100)):\n",
    "    # Создаем модель с градиентным спуском\n",
    "    model_3 = LogReg(gd_type='stochastic', max_iter=1000, tolerance=1e-4, eta=0.01, size=2)\n",
    "    \n",
    "    # Замеряем время выполнения\n",
    "    start_time = time.time()\n",
    "    model_3.fit(X_train, y_train)\n",
    "    end_time = time.time()\n",
    "    execution_time = end_time - start_time\n",
    "    times_3.append(execution_time)\n",
    "    \n",
    "    # Вычисляем ROC-AUC\n",
    "    y_prob_3 = model_3.predict_proba(X_test)\n",
    "    roc_auc_3 = roc_auc_score(y_test, y_prob_3)\n",
    "    roc_auc_scores_3.append(roc_auc_3)\n",
    "\n",
    "    #print(f\"Iteration {i + 1}: ROC-AUC = {roc_auc_3:.4f}, Time = {execution_time:.4f} sec\")\n",
    "\n",
    "# Среднее время выполнения и средний ROC-AUC\n",
    "average_time_3 = sum(times_3) / len(times_3)\n",
    "average_roc_auc_3 = sum(roc_auc_scores_3) / len(roc_auc_scores_3)\n",
    "\n",
    "print(f\"\\nAverage ROC-AUC: {average_roc_auc_3:.4f}\")\n",
    "print(f\"Average Execution Time: {average_time_3:.4f} sec\")\n"
   ]
  },
  {
   "cell_type": "markdown",
   "metadata": {},
   "source": [
    "**Задание 6 (0.5 балла).** Закодируйте все категориальные признаки с помощью one-hot-кодирования. Обучите логистическую регрессию и посмотрите, как изменилось качество модели (с тем, что было до кодирования). Измерьте время, потребовавшееся на обучение модели."
   ]
  },
  {
   "cell_type": "code",
   "execution_count": 45,
   "metadata": {},
   "outputs": [],
   "source": [
    "columns = ['ps_ind_02_cat', 'ps_ind_04_cat', 'ps_ind_05_cat', 'ps_car_01_cat', 'ps_car_02_cat', 'ps_car_03_cat', 'ps_car_04_cat', 'ps_car_05_cat', 'ps_car_06_cat', 'ps_car_07_cat', 'ps_car_08_cat', 'ps_car_09_cat', 'ps_car_10_cat', 'ps_car_11_cat']\n",
    "X_train_ohe = pd.get_dummies(X_train, columns=columns, drop_first=True)\n",
    "X_test_ohe = pd.get_dummies(X_test, columns=columns, drop_first=True)"
   ]
  },
  {
   "cell_type": "code",
   "execution_count": 49,
   "metadata": {},
   "outputs": [
    {
     "name": "stderr",
     "output_type": "stream",
     "text": [
      "100%|████████████████████████████████████████████████████████████████████████████████| 100/100 [00:30<00:00,  3.29it/s]"
     ]
    },
    {
     "name": "stdout",
     "output_type": "stream",
     "text": [
      "\n",
      "Average ROC-AUC: 0.5101\n",
      "Average Execution Time: 0.2247 sec\n"
     ]
    },
    {
     "name": "stderr",
     "output_type": "stream",
     "text": [
      "\n"
     ]
    }
   ],
   "source": [
    "# Создаем пустые списки для хранения времени выполнения и метрик ROC-AUC\n",
    "times_2 = []\n",
    "roc_auc_scores_2 = []\n",
    "\n",
    "# Выполняем цикл\n",
    "for i in tqdm(range(100)):\n",
    "    # Создаем модель с градиентным спуском\n",
    "    model_2 = LogReg(gd_type='stochastic', max_iter=1000, tolerance=1e-4, eta=0.01, size=1)\n",
    "    \n",
    "    # Замеряем время выполнения\n",
    "    start_time = time.time()\n",
    "    model_2.fit(X_train_ohe, y_train)\n",
    "    end_time = time.time()\n",
    "    execution_time = end_time - start_time\n",
    "    times_2.append(execution_time)\n",
    "    \n",
    "    # Вычисляем ROC-AUC\n",
    "    y_prob_2 = model_2.predict_proba(X_test_ohe)\n",
    "    roc_auc_2 = roc_auc_score(y_test, y_prob_2)\n",
    "    roc_auc_scores_2.append(roc_auc_2)\n",
    "\n",
    "    #print(f\"Iteration {i + 1}: ROC-AUC = {roc_auc_2:.4f}, Time = {execution_time:.4f} sec\")\n",
    "\n",
    "# Среднее время выполнения и средний ROC-AUC\n",
    "average_time_2 = sum(times_2) / len(times_2)\n",
    "average_roc_auc_2 = sum(roc_auc_scores_2) / len(roc_auc_scores_2)\n",
    "\n",
    "print(f\"\\nAverage ROC-AUC: {average_roc_auc_2:.4f}\")\n",
    "print(f\"Average Execution Time: {average_time_2:.4f} sec\")"
   ]
  },
  {
   "cell_type": "markdown",
   "metadata": {},
   "source": [
    "Теперь нужно значительно больше времени. Зато растет качество модели"
   ]
  },
  {
   "cell_type": "markdown",
   "metadata": {},
   "source": [
    "Как можно было заменить, one-hot-кодирование сильно увилечивает количество признаков в датасете, что сказывается на памяти, особенно, если некоторый признак имеет большое количество значений. Эту проблему решает другой способ кодирование категориальных признаков — счётчики. Основная идея в том, что нам важны не сами категории, а значения целевой переменной, которые имеют объекты этой категории. Каждый категориальный признак мы заменим средним значением целевой переменной по всем объектам этой же категории:\n",
    "$$\n",
    "g_j(x, X) = \\frac{\\sum_{i=1}^{l} [f_j(x) = f_j(x_i)][y_i = +1]}{\\sum_{i=1}^{l} [f_j(x) = f_j(x_i)]}\n",
    "$$\n",
    "\n",
    "__Задание 7 (1.5 балла).__ Закодируйте категориальные переменные с помощью счётчиков (ровно так, как описано выше, без каких-либо хитростей). Обучите логистическую регрессию и посмотрите на качество модели на тестовом множестве. Сравните время обучения с предыдущим экспериментом. Заметили ли вы что-то интересное?\n"
   ]
  },
  {
   "cell_type": "code",
   "execution_count": 53,
   "metadata": {},
   "outputs": [],
   "source": [
    "X_train_counts = X_train.copy()\n",
    "X_test_counts = X_test.copy()\n",
    "\n",
    "for ind in columns:\n",
    "    cat_list = np.unique(X_train[ind])\n",
    "    counts_train = np.zeros(np.size(X_train[ind]))\n",
    "    counts_test = np.zeros(np.size(X_test[ind]))\n",
    "    for cat in cat_list:         \n",
    "        cat_val = np.sum(np.equal(X_train[ind], cat) & y_train == 1) / np.sum(np.equal(X_train[ind], cat))\n",
    "        counts_train[X_train[ind] == cat] = cat_val\n",
    "        counts_test[X_test[ind] == cat] = cat_val\n",
    "    X_train_counts.loc[:, ind] = counts_train\n",
    "    X_test_counts.loc[:, ind] = counts_test"
   ]
  },
  {
   "cell_type": "code",
   "execution_count": 54,
   "metadata": {},
   "outputs": [
    {
     "name": "stderr",
     "output_type": "stream",
     "text": [
      "100%|████████████████████████████████████████████████████████████████████████████████| 100/100 [00:08<00:00, 11.28it/s]"
     ]
    },
    {
     "name": "stdout",
     "output_type": "stream",
     "text": [
      "\n",
      "Average ROC-AUC: 0.5119\n",
      "Average Execution Time: 0.0556 sec\n"
     ]
    },
    {
     "name": "stderr",
     "output_type": "stream",
     "text": [
      "\n"
     ]
    }
   ],
   "source": [
    "# Создаем пустые списки для хранения времени выполнения и метрик ROC-AUC\n",
    "times = []\n",
    "roc_auc_scores = []\n",
    "\n",
    "for i in tqdm(range(100)):\n",
    "    # Используем это случайное значение для создания модели\n",
    "    model = LogReg(gd_type='stochastic', max_iter=1000, tolerance=1e-4, eta=0.01, size=1)\n",
    "    \n",
    "    # Замеряем время выполнения\n",
    "    start_time = time.time()\n",
    "    model.fit(X_train_counts, y_train)\n",
    "    end_time = time.time()\n",
    "    execution_time = end_time - start_time\n",
    "    times.append(execution_time)\n",
    "    \n",
    "    # Вычисляем ROC-AUC\n",
    "    y_prob = model.predict_proba(X_test_counts)\n",
    "    roc_auc = roc_auc_score(y_test, y_prob)\n",
    "    roc_auc_scores.append(roc_auc)\n",
    "\n",
    "    #print(f\"Iteration {i + 1}: ROC-AUC = {roc_auc:.4f}, Time = {execution_time:.4f} sec\")\n",
    "\n",
    "# Среднее время выполнения и средний ROC-AUC\n",
    "average_time = sum(times) / len(times)\n",
    "average_roc_auc = sum(roc_auc_scores) / len(roc_auc_scores)\n",
    "\n",
    "print(f\"\\nAverage ROC-AUC: {average_roc_auc:.4f}\")\n",
    "print(f\"Average Execution Time: {average_time:.4f} sec\")"
   ]
  },
  {
   "cell_type": "markdown",
   "metadata": {},
   "source": [
    "Выполняется практически так же быстро, как и изначальная версия с числами. Очевидно, с OHE мы обучались значительно медленнее, так как количество столбцов данных было значительно выше. Но у OHE ОБЫЧНО выше качество, однако не сейчас."
   ]
  },
  {
   "cell_type": "markdown",
   "metadata": {},
   "source": [
    "Отметим, что такие признаки сами по себе являются классификаторами и, обучаясь на них, мы допускаем \"утечку\" целевой переменной в признаки. Это ведёт к переобучению, поэтому считать такие признаки необходимо так, чтобы при вычислении для конкретного объекта его целевая метка не использовалась. Это можно делать следующими способами:\n",
    "1. Вычислять значение счётчика по всем объектам расположенным выше в датасете (например, если у нас выборка отсортирована по времени).\n",
    "2. Вычислять по фолдам, то есть делить выборку на некоторое количество частей и подсчитывать значение признаков по всем фолдам кроме текущего (как делается в кросс-валидации).\n",
    "3. Внесение некоторого шума в посчитанные признаки. \n",
    "\n",
    "__Задание 8 (1 балл)__. Реализуйте корректное вычисление счётчиков самым простым способом — добавление шума к значениям (необходимо соблюсти баланс между избавление от переобучения и полезностью признаков). Снова обучите логистическую регрессию, оцените качество. Сделайте выводы.\n"
   ]
  },
  {
   "cell_type": "code",
   "execution_count": 55,
   "metadata": {},
   "outputs": [],
   "source": [
    "X_train_counts = X_train.copy()\n",
    "X_test_counts = X_test.copy()\n",
    "\n",
    "for ind in columns:\n",
    "    cat_list = np.unique(X_train[ind])\n",
    "    counts_train = np.zeros(np.size(X_train[ind]))\n",
    "    counts_test = np.zeros(np.size(X_test[ind]))\n",
    "    for cat in cat_list:         \n",
    "        cat_val = np.sum(np.equal(X_train[ind], cat) & y_train == 1) / np.sum(np.equal(X_train[ind], cat))\n",
    "        # Добавляем шум к значениям счётчиков\n",
    "        noise = np.random.normal(0, 0.1, 1)  # настраиваемый уровень шума\n",
    "        cat_val_with_noise = cat_val + noise\n",
    "        counts_train[X_train[ind] == cat] = cat_val_with_noise\n",
    "        counts_test[X_test[ind] == cat] = cat_val_with_noise\n",
    "    X_train_counts.loc[:, ind] = counts_train\n",
    "    X_test_counts.loc[:, ind] = counts_test"
   ]
  },
  {
   "cell_type": "code",
   "execution_count": 56,
   "metadata": {},
   "outputs": [
    {
     "name": "stderr",
     "output_type": "stream",
     "text": [
      "100%|████████████████████████████████████████████████████████████████████████████████| 100/100 [00:08<00:00, 11.53it/s]"
     ]
    },
    {
     "name": "stdout",
     "output_type": "stream",
     "text": [
      "\n",
      "Average ROC-AUC: 0.5109\n",
      "Average Execution Time: 0.0545 sec\n"
     ]
    },
    {
     "name": "stderr",
     "output_type": "stream",
     "text": [
      "\n"
     ]
    }
   ],
   "source": [
    "# Создаем пустые списки для хранения времени выполнения и метрик ROC-AUC\n",
    "gd_times = []\n",
    "gd_roc_auc_scores = []\n",
    "\n",
    "for i in tqdm(range(100)):\n",
    "    # Создаем модель с градиентным спуском\n",
    "    model_gd = LogReg(gd_type='stochastic', max_iter=1000, tolerance=1e-4, eta=0.01, size=1)\n",
    "    \n",
    "    # Замеряем время выполнения градиентного спуска\n",
    "    start_time = time.time()\n",
    "    model_gd.fit(X_train_counts, y_train)\n",
    "    end_time = time.time()\n",
    "    execution_time = end_time - start_time\n",
    "    gd_times.append(execution_time)\n",
    "    \n",
    "    # Вычисляем ROC-AUC для градиентного спуска\n",
    "    y_prob_gd = model_gd.predict_proba(X_test_counts)\n",
    "    roc_auc_gd = roc_auc_score(y_test, y_prob_gd)\n",
    "    gd_roc_auc_scores.append(roc_auc_gd)\n",
    "\n",
    "    #print(f\"Iteration {i + 1}: ROC-AUC = {roc_auc_gd:.4f}, Time = {execution_time:.4f} sec\")\n",
    "\n",
    "# Среднее время выполнения и средний ROC-AUC\n",
    "avg_gd_time = sum(gd_times) / len(gd_times)\n",
    "avg_gd_roc_auc = sum(gd_roc_auc_scores) / len(gd_roc_auc_scores)\n",
    "\n",
    "print(f\"\\nAverage ROC-AUC: {avg_gd_roc_auc:.4f}\")\n",
    "print(f\"Average Execution Time: {avg_gd_time:.4f} sec\")\n"
   ]
  },
  {
   "cell_type": "markdown",
   "metadata": {},
   "source": [
    "Качество в среднем оказалось на том же уровне, чем при обычном счетчике. Обычно ожидаю обратное, но разница на уровне погрешности"
   ]
  },
  {
   "cell_type": "markdown",
   "metadata": {},
   "source": [
    "## Часть 3. Отбор признаков (3 балла + 1 бонус)"
   ]
  },
  {
   "cell_type": "markdown",
   "metadata": {},
   "source": [
    "Важной частью процесса построения модели является отбор признаков. На практике многие признаки оказывают малое влияние на модель (при этом они увеличивают время вычислений) или даже негативно сказываются на качестве модели. Попробуем несколько подходов отбора признаков, оценим, как они влияют на качество модели и сколько времени занимают.\n",
    "\n",
    "Обратимся к тому же датасету про обращение клиентов по страховым случаям. Обойдёмся без сэмплирования объектов."
   ]
  },
  {
   "cell_type": "code",
   "execution_count": 57,
   "metadata": {
    "ExecuteTime": {
     "end_time": "2018-10-12T07:36:04.765536Z",
     "start_time": "2018-10-12T07:35:57.814973Z"
    }
   },
   "outputs": [],
   "source": [
    "data = pd.read_csv('train.csv', index_col=0)\n",
    "target = data.target.values\n",
    "data = data.drop('target', axis=1)\n",
    "X_train, X_test, y_train, y_test = train_test_split(data, target, test_size=0.2, random_state=124)"
   ]
  },
  {
   "cell_type": "markdown",
   "metadata": {},
   "source": [
    "Как вы помните, в данных много категориальных признаков. Давайте закодируем их с помощью one-hot кодирования. Исходные колонки с категориальными признаками можно удалить. Сколько признаков мы получили?"
   ]
  },
  {
   "cell_type": "code",
   "execution_count": 58,
   "metadata": {},
   "outputs": [],
   "source": [
    "columns = ['ps_ind_02_cat', 'ps_ind_04_cat', 'ps_ind_05_cat', 'ps_car_01_cat', 'ps_car_02_cat', 'ps_car_03_cat', 'ps_car_04_cat', 'ps_car_05_cat', 'ps_car_06_cat', 'ps_car_07_cat', 'ps_car_08_cat', 'ps_car_09_cat', 'ps_car_10_cat', 'ps_car_11_cat']\n",
    "X_train_ohe = pd.get_dummies(X_train, columns=columns, drop_first=True)\n",
    "X_test_ohe = pd.get_dummies(X_test, columns=columns, drop_first=True)"
   ]
  },
  {
   "cell_type": "code",
   "execution_count": 59,
   "metadata": {},
   "outputs": [
    {
     "data": {
      "text/plain": [
       "(476169, 213)"
      ]
     },
     "execution_count": 59,
     "metadata": {},
     "output_type": "execute_result"
    }
   ],
   "source": [
    "X_train_ohe.shape"
   ]
  },
  {
   "cell_type": "markdown",
   "metadata": {},
   "source": [
    "Мы получили 213 признаков (важно, что удаляли первый столбец для всех данных, чтобы избежать линейной зависимости)"
   ]
  },
  {
   "cell_type": "markdown",
   "metadata": {},
   "source": [
    "В качестве основной модели будем использовать логистическую регрессию, а целевой метрики — ROC-AUC. Обучите модель и посчитайте качество на тестовой выборке. Давайте запомним полученное значение."
   ]
  },
  {
   "cell_type": "markdown",
   "metadata": {},
   "source": [
    "# Далее используем бОльший параметр eta"
   ]
  },
  {
   "cell_type": "code",
   "execution_count": 20,
   "metadata": {
    "scrolled": true
   },
   "outputs": [
    {
     "name": "stderr",
     "output_type": "stream",
     "text": [
      "100%|████████████████████████████████████████████████████████████████████████████████| 100/100 [01:42<00:00,  1.02s/it]"
     ]
    },
    {
     "name": "stdout",
     "output_type": "stream",
     "text": [
      "\n",
      "Average ROC-AUC: 0.5068\n",
      "Average Execution Time: 0.9200 sec\n"
     ]
    },
    {
     "name": "stderr",
     "output_type": "stream",
     "text": [
      "\n"
     ]
    }
   ],
   "source": [
    "# Создаем пустые списки для хранения времени выполнения и метрик ROC-AUC\n",
    "gd_times = []\n",
    "gd_roc_auc_scores = []\n",
    "\n",
    "for i in tqdm(range(100)):\n",
    "    # Создаем модель с градиентным спуском\n",
    "    model_gd = LogReg(gd_type='stochastic', max_iter=1000, tolerance=1e-4, eta=0.8, size = 1)\n",
    "    \n",
    "    # Замеряем время выполнения градиентного спуска\n",
    "    start_time = time.time()\n",
    "    model_gd.fit(X_train_ohe, y_train)\n",
    "    end_time = time.time()\n",
    "    execution_time = end_time - start_time\n",
    "    gd_times.append(execution_time)\n",
    "    \n",
    "    # Вычисляем ROC-AUC для градиентного спуска\n",
    "    y_prob_gd = model_gd.predict_proba(X_test_ohe)\n",
    "    roc_auc_gd = roc_auc_score(y_test, y_prob_gd)\n",
    "    gd_roc_auc_scores.append(roc_auc_gd)\n",
    "\n",
    "    #print(f\"Iteration {i + 1}: ROC-AUC = {roc_auc_gd:.4f}, Time = {execution_time:.4f} sec\")\n",
    "\n",
    "# Среднее время выполнения и средний ROC-AUC\n",
    "avg_gd_time = sum(gd_times) / len(gd_times)\n",
    "avg_gd_roc_auc = sum(gd_roc_auc_scores) / len(gd_roc_auc_scores)\n",
    "\n",
    "print(f\"\\nAverage ROC-AUC: {avg_gd_roc_auc:.4f}\")\n",
    "print(f\"Average Execution Time: {avg_gd_time:.4f} sec\")\n"
   ]
  },
  {
   "cell_type": "markdown",
   "metadata": {},
   "source": [
    "Направшивается увеличение eta еще больше, но начинаем получать ошибки при значениях выше"
   ]
  },
  {
   "cell_type": "markdown",
   "metadata": {},
   "source": [
    "### Встроенные методы"
   ]
  },
  {
   "cell_type": "markdown",
   "metadata": {},
   "source": [
    "Допустим, мы хотим оставить только 200 лучших признаков. Попробуем сделать это несколькими способами.\n",
    "\n",
    "Начнём с отборам признаков с помощью линейной модели. Как известно, веса линейной модели означают вклад каждого признака в предсказание модели, а значит, модуль этого вклада можно интерпретировать как важность признаков. Такой метод отбора называются встроенным или embedded methods, так как он заложен в особенности модели.\n",
    "\n",
    "__Задание 10 (1 балл).__ Оставьте 200 признаков с наибольшим модулем соответсвующего параметра линейной модели. Обучите модели заново и оцените её качество. Замерьте скорость такого отбора признаков.\n",
    "\n",
    "Изменилось ли качество? Как?"
   ]
  },
  {
   "cell_type": "code",
   "execution_count": 60,
   "metadata": {},
   "outputs": [],
   "source": [
    "from sklearn.linear_model import LogisticRegression\n",
    "from sklearn.feature_selection import SelectFromModel\n",
    "\n",
    "model = LogisticRegression(max_iter=1000, n_jobs = -1, tol = 0.1, solver='sag') #Используем встроенную. Еще и стох. Работает оч. медленно\n",
    "model.fit(X_train_ohe, y_train)\n",
    "selector = SelectFromModel(model, max_features=200)\n",
    "selector.fit(X_train_ohe, y_train)\n",
    "\n",
    "X_train_selected = pd.DataFrame(selector.transform(X_train_ohe))\n",
    "X_test_selected = pd.DataFrame(selector.transform(X_test_ohe))"
   ]
  },
  {
   "cell_type": "code",
   "execution_count": 61,
   "metadata": {},
   "outputs": [
    {
     "name": "stderr",
     "output_type": "stream",
     "text": [
      "100%|████████████████████████████████████████████████████████████████████████████████████| 5/5 [02:09<00:00, 25.81s/it]"
     ]
    },
    {
     "name": "stdout",
     "output_type": "stream",
     "text": [
      "\n",
      "Average ROC-AUC: 0.5365\n",
      "Average Execution Time: 25.7872 sec\n"
     ]
    },
    {
     "name": "stderr",
     "output_type": "stream",
     "text": [
      "\n"
     ]
    }
   ],
   "source": [
    "# Создаем пустые списки для хранения времени выполнения и метрик ROC-AUC\n",
    "gd_times = []\n",
    "gd_roc_auc_scores = []\n",
    "\n",
    "for i in tqdm(range(5)):\n",
    "    # Создаем модель с градиентным спуском\n",
    "    model_gd = LogReg(gd_type='stochastic', max_iter=1000, tolerance=1e-4, eta=0.5, size = 1)\n",
    "    \n",
    "    # Замеряем время выполнения градиентного спуска\n",
    "    start_time = time.time()\n",
    "    model_gd.fit(X_train_selected, y_train)\n",
    "    end_time = time.time()\n",
    "    execution_time = end_time - start_time\n",
    "    gd_times.append(execution_time)\n",
    "    \n",
    "    # Вычисляем ROC-AUC для градиентного спуска\n",
    "    y_prob_gd = model_gd.predict_proba(X_test_selected)\n",
    "    roc_auc_gd = roc_auc_score(y_test, y_prob_gd)\n",
    "    gd_roc_auc_scores.append(roc_auc_gd)\n",
    "\n",
    "    #print(f\"Iteration {i + 1}: ROC-AUC = {roc_auc_gd:.4f}, Time = {execution_time:.4f} sec\")\n",
    "\n",
    "# Среднее время выполнения и средний ROC-AUC\n",
    "avg_gd_time = sum(gd_times) / len(gd_times)\n",
    "avg_gd_roc_auc = sum(gd_roc_auc_scores) / len(gd_roc_auc_scores)\n",
    "\n",
    "print(f\"\\nAverage ROC-AUC: {avg_gd_roc_auc:.4f}\")\n",
    "print(f\"Average Execution Time: {avg_gd_time:.4f} sec\")\n"
   ]
  },
  {
   "cell_type": "markdown",
   "metadata": {},
   "source": [
    "При том же параметре eta скорость выполнения меньше. При подборе оптимального параметра скорости обучения - скорость выше чем до удаления столбцов. Покажем это ниже"
   ]
  },
  {
   "cell_type": "code",
   "execution_count": 62,
   "metadata": {},
   "outputs": [
    {
     "name": "stderr",
     "output_type": "stream",
     "text": [
      "100%|████████████████████████████████████████████████████████████████████████████████| 100/100 [00:40<00:00,  2.44it/s]"
     ]
    },
    {
     "name": "stdout",
     "output_type": "stream",
     "text": [
      "\n",
      "Average ROC-AUC: 0.5240\n",
      "Average Execution Time: 0.3863 sec\n"
     ]
    },
    {
     "name": "stderr",
     "output_type": "stream",
     "text": [
      "\n"
     ]
    }
   ],
   "source": [
    "# Создаем пустые списки для хранения времени выполнения и метрик ROC-AUC\n",
    "gd_times = []\n",
    "gd_roc_auc_scores = []\n",
    "\n",
    "for i in tqdm(range(100)):\n",
    "    # Создаем модель с градиентным спуском\n",
    "    model_gd = LogReg(gd_type='stochastic', max_iter=1000, tolerance=1e-4, eta=2, size = 1)\n",
    "    \n",
    "    # Замеряем время выполнения градиентного спуска\n",
    "    start_time = time.time()\n",
    "    model_gd.fit(X_train_selected, y_train)\n",
    "    end_time = time.time()\n",
    "    execution_time = end_time - start_time\n",
    "    gd_times.append(execution_time)\n",
    "    \n",
    "    # Вычисляем ROC-AUC для градиентного спуска\n",
    "    y_prob_gd = model_gd.predict_proba(X_test_selected)\n",
    "    roc_auc_gd = roc_auc_score(y_test, y_prob_gd)\n",
    "    gd_roc_auc_scores.append(roc_auc_gd)\n",
    "\n",
    "    #print(f\"Iteration {i + 1}: ROC-AUC = {roc_auc_gd:.4f}, Time = {execution_time:.4f} sec\")\n",
    "\n",
    "# Среднее время выполнения и средний ROC-AUC\n",
    "avg_gd_time = sum(gd_times) / len(gd_times)\n",
    "avg_gd_roc_auc = sum(gd_roc_auc_scores) / len(gd_roc_auc_scores)\n",
    "\n",
    "print(f\"\\nAverage ROC-AUC: {avg_gd_roc_auc:.4f}\")\n",
    "print(f\"Average Execution Time: {avg_gd_time:.4f} sec\")\n"
   ]
  },
  {
   "cell_type": "markdown",
   "metadata": {},
   "source": [
    "Можно также заметить, что выросло качество"
   ]
  },
  {
   "cell_type": "markdown",
   "metadata": {},
   "source": [
    "А теперь давайте подумаем, что мы не учли. Мы предположили, что признаки вносят вклад равномерно, но не учли их масштаба. Если мы умножим один из признаков в 100 раз, то без учёта регуляризации его вес уменьшится в эти же 100 раз. А мы на основе этого отбираем признаки! Давайте сначала отнормируем признаки одним из способов, а только потом будем удалять признаки. \n",
    "\n",
    "Кстати, в таком случае надо пересчитать качество на всех признаках (сделайте это ниже). Если вы сделали нормирование признаков в самом начале, то попробуйте отобрать признаки на неотмасштабированных данных.\n",
    "\n",
    "Что получилось?"
   ]
  },
  {
   "cell_type": "code",
   "execution_count": 24,
   "metadata": {},
   "outputs": [],
   "source": [
    "from sklearn.preprocessing import MinMaxScaler\n",
    "scaler = MinMaxScaler() # Создаем объект MinMaxScaler\n",
    "X_train_ohe = pd.DataFrame(scaler.fit_transform(X_train_ohe))\n",
    "X_test_ohe = pd.DataFrame(scaler.transform(X_test_ohe))\n",
    "\n",
    "model = LogisticRegression(max_iter=1000, n_jobs = -1, tol = 0.1, solver='sag') #Используем встроенную. Еще и c \"sag\". Так как работает оч. медленно\n",
    "model.fit(X_train_ohe, y_train)\n",
    "selector = SelectFromModel(model, max_features=200)\n",
    "selector.fit(X_train_ohe, y_train)\n",
    "\n",
    "X_train_selected = pd.DataFrame(selector.transform(X_train_ohe))\n",
    "X_test_selected = pd.DataFrame(selector.transform(X_test_ohe))"
   ]
  },
  {
   "cell_type": "code",
   "execution_count": 25,
   "metadata": {},
   "outputs": [
    {
     "name": "stderr",
     "output_type": "stream",
     "text": [
      "100%|████████████████████████████████████████████████████████████████████████████████| 100/100 [00:38<00:00,  2.61it/s]"
     ]
    },
    {
     "name": "stdout",
     "output_type": "stream",
     "text": [
      "\n",
      "Average ROC-AUC: 0.5413\n",
      "Average Execution Time: 0.3579 sec\n"
     ]
    },
    {
     "name": "stderr",
     "output_type": "stream",
     "text": [
      "\n"
     ]
    }
   ],
   "source": [
    "# Создаем пустые списки для хранения времени выполнения и метрик ROC-AUC\n",
    "gd_times = []\n",
    "gd_roc_auc_scores = []\n",
    "\n",
    "for i in tqdm(range(100)):\n",
    "    # Создаем модель с градиентным спуском\n",
    "    model_gd = LogReg(gd_type='stochastic', max_iter=1000, tolerance=1e-4, eta=2, size = 1)\n",
    "    \n",
    "    # Замеряем время выполнения градиентного спуска\n",
    "    start_time = time.time()\n",
    "    model_gd.fit(X_train_selected, y_train)\n",
    "    end_time = time.time()\n",
    "    execution_time = end_time - start_time\n",
    "    gd_times.append(execution_time)\n",
    "    \n",
    "    # Вычисляем ROC-AUC для градиентного спуска\n",
    "    y_prob_gd = model_gd.predict_proba(X_test_selected)\n",
    "    roc_auc_gd = roc_auc_score(y_test, y_prob_gd)\n",
    "    gd_roc_auc_scores.append(roc_auc_gd)\n",
    "\n",
    "    #print(f\"Iteration {i + 1}: ROC-AUC = {roc_auc_gd:.4f}, Time = {execution_time:.4f} sec\")\n",
    "\n",
    "# Среднее время выполнения и средний ROC-AUC\n",
    "avg_gd_time = sum(gd_times) / len(gd_times)\n",
    "avg_gd_roc_auc = sum(gd_roc_auc_scores) / len(gd_roc_auc_scores)\n",
    "\n",
    "print(f\"\\nAverage ROC-AUC: {avg_gd_roc_auc:.4f}\")\n",
    "print(f\"Average Execution Time: {avg_gd_time:.4f} sec\")\n"
   ]
  },
  {
   "cell_type": "markdown",
   "metadata": {},
   "source": [
    "Теперь признаки выбрались лучше, поэтому качество выше, чем в попытке до этого. А скорость на том же уровне"
   ]
  },
  {
   "cell_type": "markdown",
   "metadata": {},
   "source": [
    "__Задание 10 (0.5 балла).__\n",
    "Можно задать отбор признаков более функционально. Вспомним, что L1-регуляризация также умеет отбирать признаки. Понятно, что теперь нам будет сложнее оставить именно 200 лучших признаков, но возможно они нам и не нужны. Подберите коэффициент регуляризации и проверьте, как изменилось качество. Получилось ли добиться лучшего качества при менее чем 200 признаках?"
   ]
  },
  {
   "cell_type": "markdown",
   "metadata": {},
   "source": [
    "Я буду использовать Lasso"
   ]
  },
  {
   "cell_type": "code",
   "execution_count": 26,
   "metadata": {},
   "outputs": [],
   "source": [
    "columns = ['ps_ind_02_cat', 'ps_ind_04_cat', 'ps_ind_05_cat', 'ps_car_01_cat', 'ps_car_02_cat', 'ps_car_03_cat', 'ps_car_04_cat', 'ps_car_05_cat', 'ps_car_06_cat', 'ps_car_07_cat', 'ps_car_08_cat', 'ps_car_09_cat', 'ps_car_10_cat', 'ps_car_11_cat']\n",
    "X_train_ohe = pd.get_dummies(X_train, columns=columns, drop_first=True)\n",
    "X_test_ohe = pd.get_dummies(X_test, columns=columns, drop_first=True)\n",
    "\n",
    "scaler = MinMaxScaler()\n",
    "X_train_ohe_s = pd.DataFrame(scaler.fit_transform(X_train_ohe))\n",
    "X_test_ohe_s = pd.DataFrame(scaler.transform(X_test_ohe))"
   ]
  },
  {
   "cell_type": "code",
   "execution_count": 27,
   "metadata": {
    "scrolled": true
   },
   "outputs": [
    {
     "data": {
      "text/html": [
       "<style>#sk-container-id-1 {color: black;background-color: white;}#sk-container-id-1 pre{padding: 0;}#sk-container-id-1 div.sk-toggleable {background-color: white;}#sk-container-id-1 label.sk-toggleable__label {cursor: pointer;display: block;width: 100%;margin-bottom: 0;padding: 0.3em;box-sizing: border-box;text-align: center;}#sk-container-id-1 label.sk-toggleable__label-arrow:before {content: \"▸\";float: left;margin-right: 0.25em;color: #696969;}#sk-container-id-1 label.sk-toggleable__label-arrow:hover:before {color: black;}#sk-container-id-1 div.sk-estimator:hover label.sk-toggleable__label-arrow:before {color: black;}#sk-container-id-1 div.sk-toggleable__content {max-height: 0;max-width: 0;overflow: hidden;text-align: left;background-color: #f0f8ff;}#sk-container-id-1 div.sk-toggleable__content pre {margin: 0.2em;color: black;border-radius: 0.25em;background-color: #f0f8ff;}#sk-container-id-1 input.sk-toggleable__control:checked~div.sk-toggleable__content {max-height: 200px;max-width: 100%;overflow: auto;}#sk-container-id-1 input.sk-toggleable__control:checked~label.sk-toggleable__label-arrow:before {content: \"▾\";}#sk-container-id-1 div.sk-estimator input.sk-toggleable__control:checked~label.sk-toggleable__label {background-color: #d4ebff;}#sk-container-id-1 div.sk-label input.sk-toggleable__control:checked~label.sk-toggleable__label {background-color: #d4ebff;}#sk-container-id-1 input.sk-hidden--visually {border: 0;clip: rect(1px 1px 1px 1px);clip: rect(1px, 1px, 1px, 1px);height: 1px;margin: -1px;overflow: hidden;padding: 0;position: absolute;width: 1px;}#sk-container-id-1 div.sk-estimator {font-family: monospace;background-color: #f0f8ff;border: 1px dotted black;border-radius: 0.25em;box-sizing: border-box;margin-bottom: 0.5em;}#sk-container-id-1 div.sk-estimator:hover {background-color: #d4ebff;}#sk-container-id-1 div.sk-parallel-item::after {content: \"\";width: 100%;border-bottom: 1px solid gray;flex-grow: 1;}#sk-container-id-1 div.sk-label:hover label.sk-toggleable__label {background-color: #d4ebff;}#sk-container-id-1 div.sk-serial::before {content: \"\";position: absolute;border-left: 1px solid gray;box-sizing: border-box;top: 0;bottom: 0;left: 50%;z-index: 0;}#sk-container-id-1 div.sk-serial {display: flex;flex-direction: column;align-items: center;background-color: white;padding-right: 0.2em;padding-left: 0.2em;position: relative;}#sk-container-id-1 div.sk-item {position: relative;z-index: 1;}#sk-container-id-1 div.sk-parallel {display: flex;align-items: stretch;justify-content: center;background-color: white;position: relative;}#sk-container-id-1 div.sk-item::before, #sk-container-id-1 div.sk-parallel-item::before {content: \"\";position: absolute;border-left: 1px solid gray;box-sizing: border-box;top: 0;bottom: 0;left: 50%;z-index: -1;}#sk-container-id-1 div.sk-parallel-item {display: flex;flex-direction: column;z-index: 1;position: relative;background-color: white;}#sk-container-id-1 div.sk-parallel-item:first-child::after {align-self: flex-end;width: 50%;}#sk-container-id-1 div.sk-parallel-item:last-child::after {align-self: flex-start;width: 50%;}#sk-container-id-1 div.sk-parallel-item:only-child::after {width: 0;}#sk-container-id-1 div.sk-dashed-wrapped {border: 1px dashed gray;margin: 0 0.4em 0.5em 0.4em;box-sizing: border-box;padding-bottom: 0.4em;background-color: white;}#sk-container-id-1 div.sk-label label {font-family: monospace;font-weight: bold;display: inline-block;line-height: 1.2em;}#sk-container-id-1 div.sk-label-container {text-align: center;}#sk-container-id-1 div.sk-container {/* jupyter's `normalize.less` sets `[hidden] { display: none; }` but bootstrap.min.css set `[hidden] { display: none !important; }` so we also need the `!important` here to be able to override the default hidden behavior on the sphinx rendered scikit-learn.org. See: https://github.com/scikit-learn/scikit-learn/issues/21755 */display: inline-block !important;position: relative;}#sk-container-id-1 div.sk-text-repr-fallback {display: none;}</style><div id=\"sk-container-id-1\" class=\"sk-top-container\"><div class=\"sk-text-repr-fallback\"><pre>LogisticRegression(max_iter=1000, n_jobs=-1, penalty=&#x27;l1&#x27;, solver=&#x27;saga&#x27;)</pre><b>In a Jupyter environment, please rerun this cell to show the HTML representation or trust the notebook. <br />On GitHub, the HTML representation is unable to render, please try loading this page with nbviewer.org.</b></div><div class=\"sk-container\" hidden><div class=\"sk-item\"><div class=\"sk-estimator sk-toggleable\"><input class=\"sk-toggleable__control sk-hidden--visually\" id=\"sk-estimator-id-1\" type=\"checkbox\" checked><label for=\"sk-estimator-id-1\" class=\"sk-toggleable__label sk-toggleable__label-arrow\">LogisticRegression</label><div class=\"sk-toggleable__content\"><pre>LogisticRegression(max_iter=1000, n_jobs=-1, penalty=&#x27;l1&#x27;, solver=&#x27;saga&#x27;)</pre></div></div></div></div></div>"
      ],
      "text/plain": [
       "LogisticRegression(max_iter=1000, n_jobs=-1, penalty='l1', solver='saga')"
      ]
     },
     "execution_count": 27,
     "metadata": {},
     "output_type": "execute_result"
    }
   ],
   "source": [
    "model = LogisticRegression(max_iter=1000, n_jobs=-1, solver='saga', penalty='l1')\n",
    "model.fit(X_train_ohe_s, y_train)"
   ]
  },
  {
   "cell_type": "code",
   "execution_count": 28,
   "metadata": {},
   "outputs": [],
   "source": [
    "indices = np.where(np.abs(model.coef_[0]) < 1e-5)[0]\n",
    "X_train_ohe_s = X_train_ohe_s.drop(indices, axis = 1)\n",
    "X_test_ohe_s = X_test_ohe_s.drop(indices, axis = 1)"
   ]
  },
  {
   "cell_type": "code",
   "execution_count": 29,
   "metadata": {},
   "outputs": [
    {
     "data": {
      "text/plain": [
       "(119043, 196)"
      ]
     },
     "execution_count": 29,
     "metadata": {},
     "output_type": "execute_result"
    }
   ],
   "source": [
    "X_test_ohe_s.shape"
   ]
  },
  {
   "cell_type": "code",
   "execution_count": 30,
   "metadata": {},
   "outputs": [
    {
     "name": "stderr",
     "output_type": "stream",
     "text": [
      "100%|████████████████████████████████████████████████████████████████████████████████| 100/100 [00:13<00:00,  7.19it/s]"
     ]
    },
    {
     "name": "stdout",
     "output_type": "stream",
     "text": [
      "\n",
      "Average ROC-AUC: 0.5336\n",
      "Average Execution Time: 0.1110 sec\n"
     ]
    },
    {
     "name": "stderr",
     "output_type": "stream",
     "text": [
      "\n"
     ]
    }
   ],
   "source": [
    "# Создаем пустые списки для хранения времени выполнения и метрик ROC-AUC\n",
    "gd_times = []\n",
    "gd_roc_auc_scores = []\n",
    "\n",
    "for i in tqdm(range(100)):\n",
    "    # Создаем модель с градиентным спуском\n",
    "    model_gd = LogReg(gd_type='stochastic', max_iter=1000, tolerance=1e-4, eta=2, size = 1)\n",
    "    \n",
    "    # Замеряем время выполнения градиентного спуска\n",
    "    start_time = time.time()\n",
    "    model_gd.fit(X_train_ohe_s, y_train)\n",
    "    end_time = time.time()\n",
    "    execution_time = end_time - start_time\n",
    "    gd_times.append(execution_time)\n",
    "    \n",
    "    # Вычисляем ROC-AUC для градиентного спуска\n",
    "    y_prob_gd = model_gd.predict_proba(X_test_ohe_s)\n",
    "    roc_auc_gd = roc_auc_score(y_test, y_prob_gd)\n",
    "    gd_roc_auc_scores.append(roc_auc_gd)\n",
    "\n",
    "    #print(f\"Iteration {i + 1}: ROC-AUC = {roc_auc_gd:.4f}, Time = {execution_time:.4f} sec\")\n",
    "\n",
    "# Среднее время выполнения и средний ROC-AUC\n",
    "avg_gd_time = sum(gd_times) / len(gd_times)\n",
    "avg_gd_roc_auc = sum(gd_roc_auc_scores) / len(gd_roc_auc_scores)\n",
    "\n",
    "print(f\"\\nAverage ROC-AUC: {avg_gd_roc_auc:.4f}\")\n",
    "print(f\"Average Execution Time: {avg_gd_time:.4f} sec\")\n"
   ]
  },
  {
   "cell_type": "markdown",
   "metadata": {},
   "source": [
    "К сожалению для нас, результат оказался немного хуже. Подбирал параметр так, чтобы большинство осталось около 200 признаков"
   ]
  },
  {
   "cell_type": "markdown",
   "metadata": {},
   "source": [
    "### Методы фильтрации"
   ]
  },
  {
   "cell_type": "markdown",
   "metadata": {},
   "source": [
    "Давайте отбирать признаки умнее, а именно через подсчёт некоторой функции для каждого признака. На основании значений этой функции будем оставлять наиболее важные признаки. Методы этого семейства называют фильтрующими или  filter methods. \n",
    "\n",
    "В качестве такой функции будем считать t-статистику:\n",
    "\n",
    "$$t(x) = \\frac{|\\mu_+ - \\mu_-|}{\\sqrt{\\frac{n_+ \\sigma^2_+ + n_- \\sigma^2_-}{n_+ + n_-}}},$$\n",
    "\n",
    "где $mu$, $sigma$, $n$ соответственно среднее, среднеквадратичное отклонение и количество объектов каждого из классов.\n",
    "\n",
    "__Задание 11 (1 балл)__. Оставьте 200 признаков с наибольшим значением и замерьте качество. Не забудьте замерить скорость отбора признаков в этом случаев."
   ]
  },
  {
   "cell_type": "markdown",
   "metadata": {},
   "source": [
    "Работать далее будет уже со скейлером и преобразованными кат. данными"
   ]
  },
  {
   "cell_type": "code",
   "execution_count": 31,
   "metadata": {},
   "outputs": [],
   "source": [
    "columns = ['ps_ind_02_cat', 'ps_ind_04_cat', 'ps_ind_05_cat', 'ps_car_01_cat', 'ps_car_02_cat', 'ps_car_03_cat', 'ps_car_04_cat', 'ps_car_05_cat', 'ps_car_06_cat', 'ps_car_07_cat', 'ps_car_08_cat', 'ps_car_09_cat', 'ps_car_10_cat', 'ps_car_11_cat']\n",
    "X_train_ohe = pd.get_dummies(X_train, columns=columns, drop_first=True)\n",
    "X_test_ohe = pd.get_dummies(X_test, columns=columns, drop_first=True)\n",
    "\n",
    "scaler = MinMaxScaler()\n",
    "X_train_ohe_s = pd.DataFrame(scaler.fit_transform(X_train_ohe))\n",
    "X_test_ohe_s = pd.DataFrame(scaler.transform(X_test_ohe))"
   ]
  },
  {
   "cell_type": "code",
   "execution_count": 32,
   "metadata": {},
   "outputs": [],
   "source": [
    "def calculate_t_statistic(X, y):\n",
    "    # Разделение данных по классам\n",
    "    X_pos = X[y == 1]\n",
    "    X_neg = X[y == 0]\n",
    "    \n",
    "    # Вычисление средних значений для каждого класса\n",
    "    mu_pos = np.mean(X_pos, axis=0)\n",
    "    mu_neg = np.mean(X_neg, axis=0)\n",
    "    \n",
    "    # Вычисление количества объектов каждого класса\n",
    "    n_pos = len(X_pos)\n",
    "    n_neg = len(X_neg)\n",
    "    \n",
    "    # Вычисление среднеквадратичного отклонения для каждого класса\n",
    "    sigma_pos = np.std(X_pos, axis=0)\n",
    "    sigma_neg = np.std(X_neg, axis=0)\n",
    "    \n",
    "    # Вычисление t-статистики для каждого признака\n",
    "    t_statistic = np.abs(mu_pos - mu_neg) / np.sqrt(((n_pos - 1) * sigma_pos ** 2 + (n_neg - 1) * sigma_neg ** 2) / (n_pos + n_neg - 2))\n",
    "    \n",
    "    # Отбор индексов признаков с наибольшими значениями t-статистики\n",
    "    top_indices = np.argsort(t_statistic)[::-1]\n",
    "    \n",
    "    return t_statistic, top_indices"
   ]
  },
  {
   "cell_type": "code",
   "execution_count": 33,
   "metadata": {},
   "outputs": [],
   "source": [
    "# Применение функции для подсчета t-статистики\n",
    "t_statistics, top_indices = calculate_t_statistic(X_train_ohe_s, y_train)\n",
    "\n",
    "# Отбор 200 признаков с наибольшими значениями t-статистики\n",
    "top_200_indices = top_indices[:200]\n",
    "selected_columns = X_train_ohe_s.columns[top_200_indices]\n",
    "X_train_selected = X_train_ohe_s[selected_columns]\n",
    "X_test_selected = X_test_ohe_s[selected_columns]"
   ]
  },
  {
   "cell_type": "code",
   "execution_count": 34,
   "metadata": {},
   "outputs": [
    {
     "name": "stderr",
     "output_type": "stream",
     "text": [
      "100%|████████████████████████████████████████████████████████████████████████████████| 100/100 [00:13<00:00,  7.59it/s]"
     ]
    },
    {
     "name": "stdout",
     "output_type": "stream",
     "text": [
      "\n",
      "Average ROC-AUC: 0.5350\n",
      "Average Execution Time: 0.1031 sec\n"
     ]
    },
    {
     "name": "stderr",
     "output_type": "stream",
     "text": [
      "\n"
     ]
    }
   ],
   "source": [
    "# Создаем пустые списки для хранения времени выполнения и метрик ROC-AUC\n",
    "gd_times = []\n",
    "gd_roc_auc_scores = []\n",
    "\n",
    "for i in tqdm(range(100)):\n",
    "    # Создаем модель с градиентным спуском\n",
    "    model_gd = LogReg(gd_type='stochastic', max_iter=1000, tolerance=1e-4, eta=2, size = 1)\n",
    "    \n",
    "    # Замеряем время выполнения градиентного спуска\n",
    "    start_time = time.time()\n",
    "    model_gd.fit(X_train_selected, y_train)\n",
    "    end_time = time.time()\n",
    "    execution_time = end_time - start_time\n",
    "    gd_times.append(execution_time)\n",
    "    \n",
    "    # Вычисляем ROC-AUC для градиентного спуска\n",
    "    y_prob_gd = model_gd.predict_proba(X_test_selected)\n",
    "    roc_auc_gd = roc_auc_score(y_test, y_prob_gd)\n",
    "    gd_roc_auc_scores.append(roc_auc_gd)\n",
    "\n",
    "    #print(f\"Iteration {i + 1}: ROC-AUC = {roc_auc_gd:.4f}, Time = {execution_time:.4f} sec\")\n",
    "\n",
    "# Среднее время выполнения и средний ROC-AUC\n",
    "avg_gd_time = sum(gd_times) / len(gd_times)\n",
    "avg_gd_roc_auc = sum(gd_roc_auc_scores) / len(gd_roc_auc_scores)\n",
    "\n",
    "print(f\"\\nAverage ROC-AUC: {avg_gd_roc_auc:.4f}\")\n",
    "print(f\"Average Execution Time: {avg_gd_time:.4f} sec\")\n"
   ]
  },
  {
   "cell_type": "markdown",
   "metadata": {},
   "source": [
    "Скорость выполнения снова выросла"
   ]
  },
  {
   "cell_type": "markdown",
   "metadata": {},
   "source": [
    "### Методы-обёртки"
   ]
  },
  {
   "cell_type": "markdown",
   "metadata": {},
   "source": [
    "__Задание 12 (бонус, 1 балл)__.\n",
    "\n",
    "\n",
    "Заключительный из рассматриваемых нами методов работает следующим образом: мы исключаем по очереди один из признаков и смотрим, как это влияет на качество. Удаляем признаки таким жадным способом, пока не достигнем некоторого критерия (количество признаков или ухудшением качества).\n",
    "\n",
    "Заметим, что нельзя оценивать качество по тестовой выборке, иначе мы можем переобучиться, как, например, при настройке гиперпараметров. Разделите выборку на 2 части, на одной из них обучайте модель без одного из признаков,  на второй части оценивайте качество. Исходную тестовую выборку стоит использовать только на финальной оценке качества.\n",
    "\n",
    "Сделайте одну итерацию и прикиньте, сколько времени займёт такой отбор признаков. Кажется, что чересчур. Давайте возьмём маленький сэмпл данных (например, в 10 тысяч объектов), что сильно уменьшит время итерации. Теперь это долго, но уже приемлимо. \n",
    "\n",
    "Если это всё ещё долго для вашего комьютера, можете попробовать брать не по одному признаку, а сразу по пять (и удалять сразу тоже по 5). Для этого перед каждой итерацией удаления делите заново все признаки на группы по 5 штук.\n",
    "\n",
    "Снова оставьте только 200 признаков и оцените качество на тестовой выборке. Сколько времени занял такой отбор признаков?"
   ]
  },
  {
   "cell_type": "code",
   "execution_count": 35,
   "metadata": {},
   "outputs": [],
   "source": [
    "columns = ['ps_ind_02_cat', 'ps_ind_04_cat', 'ps_ind_05_cat', 'ps_car_01_cat', 'ps_car_02_cat', 'ps_car_03_cat', 'ps_car_04_cat', 'ps_car_05_cat', 'ps_car_06_cat', 'ps_car_07_cat', 'ps_car_08_cat', 'ps_car_09_cat', 'ps_car_10_cat', 'ps_car_11_cat']\n",
    "X_train_ohe = pd.get_dummies(X_train, columns=columns, drop_first=True)\n",
    "X_test_ohe = pd.get_dummies(X_test, columns=columns, drop_first=True)\n",
    "\n",
    "scaler = MinMaxScaler()\n",
    "X_train_ohe_s = pd.DataFrame(scaler.fit_transform(X_train_ohe))\n",
    "X_test_ohe_s = pd.DataFrame(scaler.transform(X_test_ohe))"
   ]
  },
  {
   "cell_type": "code",
   "execution_count": 36,
   "metadata": {},
   "outputs": [],
   "source": [
    "from sklearn.ensemble import RandomForestClassifier\n",
    "def feature_elimination(X, y, test_size=0.2, top_features=200, batch_size=3):\n",
    "    # Разделение на обучающую и отложенную выборки\n",
    "    X_train, X_val, y_train, y_val = train_test_split(X, y, test_size=test_size, random_state=42)\n",
    "    \n",
    "    # Инициализация списка выбранных признаков\n",
    "    selected_features = list(range(X_train.shape[1]))\n",
    "    \n",
    "    # Итерационное удаление признаков\n",
    "    while len(selected_features) > top_features:\n",
    "        scores = []\n",
    "        for feature_idx in range(0, len(selected_features), batch_size):\n",
    "            # Создание нового X_train без выбранной группы признаков\n",
    "            excluded_features = selected_features[:feature_idx] + selected_features[feature_idx + batch_size:]\n",
    "            X_train_subset = X_train[:, excluded_features]\n",
    "            \n",
    "            # Обучение логистической регрессии и оценка качества на отложенной выборке\n",
    "            clf = RandomForestClassifier(random_state=42, n_jobs=-1, n_estimators=10, max_depth = 1)\n",
    "            clf.fit(X_train_subset, y_train)\n",
    "            X_val_subset = X_val[:, excluded_features]\n",
    "            score = clf.score(X_val_subset, y_val)\n",
    "            scores.append((score, feature_idx))\n",
    "        \n",
    "        # Удаление группы признаков с наименьшим влиянием на качество модели\n",
    "        worst_batch = min(scores, key=lambda x: x[0])\n",
    "        selected_features = selected_features[:worst_batch[1]] + selected_features[worst_batch[1] + batch_size:]\n",
    "\n",
    "    # Выбор топ-200 признаков\n",
    "    selected_features = selected_features[:top_features]\n",
    "    \n",
    "    return selected_features\n"
   ]
  },
  {
   "cell_type": "code",
   "execution_count": 37,
   "metadata": {},
   "outputs": [
    {
     "name": "stdout",
     "output_type": "stream",
     "text": [
      "CPU times: total: 2.17 s\n",
      "Wall time: 11.1 s\n"
     ]
    }
   ],
   "source": [
    "%%time\n",
    "# Создание уменьшенного сэмпла данных\n",
    "X_small_sample = X_train_ohe_s[:10000]\n",
    "y_small_sample = y_train[:10000]\n",
    "X_small_sample = X_small_sample.to_numpy()\n",
    "# Отбор признаков\n",
    "selected_features = feature_elimination(X_small_sample, y_small_sample)"
   ]
  },
  {
   "cell_type": "code",
   "execution_count": 38,
   "metadata": {},
   "outputs": [],
   "source": [
    "X_train_selected = X_train_ohe_s.iloc[:, selected_features]\n",
    "X_test_selected = X_test_ohe_s.iloc[:, selected_features]"
   ]
  },
  {
   "cell_type": "code",
   "execution_count": 39,
   "metadata": {},
   "outputs": [
    {
     "name": "stderr",
     "output_type": "stream",
     "text": [
      "100%|████████████████████████████████████████████████████████████████████████████████| 100/100 [00:12<00:00,  8.03it/s]"
     ]
    },
    {
     "name": "stdout",
     "output_type": "stream",
     "text": [
      "\n",
      "Average ROC-AUC: 0.5332\n",
      "Average Execution Time: 0.0959 sec\n"
     ]
    },
    {
     "name": "stderr",
     "output_type": "stream",
     "text": [
      "\n"
     ]
    }
   ],
   "source": [
    "# Создаем пустые списки для хранения времени выполнения и метрик ROC-AUC\n",
    "gd_times = []\n",
    "gd_roc_auc_scores = []\n",
    "\n",
    "for i in tqdm(range(100)):\n",
    "    # Создаем модель с градиентным спуском\n",
    "    model_gd = LogReg(gd_type='stochastic', max_iter=1000, tolerance=1e-4, eta=2, size = 1)\n",
    "    \n",
    "    # Замеряем время выполнения градиентного спуска\n",
    "    start_time = time.time()\n",
    "    model_gd.fit(X_train_selected, y_train)\n",
    "    end_time = time.time()\n",
    "    execution_time = end_time - start_time\n",
    "    gd_times.append(execution_time)\n",
    "    \n",
    "    # Вычисляем ROC-AUC для градиентного спуска\n",
    "    y_prob_gd = model_gd.predict_proba(X_test_selected)\n",
    "    roc_auc_gd = roc_auc_score(y_test, y_prob_gd)\n",
    "    gd_roc_auc_scores.append(roc_auc_gd)\n",
    "\n",
    "    #print(f\"Iteration {i + 1}: ROC-AUC = {roc_auc_gd:.4f}, Time = {execution_time:.4f} sec\")\n",
    "\n",
    "# Среднее время выполнения и средний ROC-AUC\n",
    "avg_gd_time = sum(gd_times) / len(gd_times)\n",
    "avg_gd_roc_auc = sum(gd_roc_auc_scores) / len(gd_roc_auc_scores)\n",
    "\n",
    "print(f\"\\nAverage ROC-AUC: {avg_gd_roc_auc:.4f}\")\n",
    "print(f\"Average Execution Time: {avg_gd_time:.4f} sec\")\n"
   ]
  },
  {
   "cell_type": "markdown",
   "metadata": {},
   "source": [
    "Уверен, что мы бы получили наилучший результат, если бы использовали всю выборку целиком, а не только часть ее наблюдений. Но компьютер мой это вычислить не способен"
   ]
  },
  {
   "cell_type": "markdown",
   "metadata": {},
   "source": [
    "Опционально (это не оценивается) можете рассмотреть более интересные стратегии отбора, чем жадная. Например, генетические алгоритмы. Можно закодировать бинарным вектором, включаем мы или нет тот или иной признак в модель. А дальше генетическим алгоритмом оптимизировать этот вектор. Всё ещё не быстро, но точно быстрее жадного.\n"
   ]
  },
  {
   "cell_type": "markdown",
   "metadata": {},
   "source": [
    "**Задание 13 (0.5 балла)** Давайте подведём итоги по отбору признаков. Назовите преимущества и недостатки каждого из методов. Какой метод привёл к наилучшему качеству? Если не делали бонус — сравните встроенный метод и метод фильтрации.\n",
    "\n",
    "**Ответ:** ..."
   ]
  },
  {
   "cell_type": "markdown",
   "metadata": {},
   "source": [
    "### Методы-обёртки:\n",
    "##### Преимущества:\n",
    "1. Ориентированы на конкретную модель: Учитывают влияние признаков на конечную модель (Использовать RF для выбора параметров и потом RF как лучшую модель)\n",
    "2. Могут учитывать взаимодействие признаков: Позволяют комбинировать признаки для повышения предсказательной силы (Видят связь комбинаций признаков - классический пример про форму фруктов и их цвет в задаче классификации)\n",
    "##### Недостатки:\n",
    "1. Вычислительно затратны: Из-за перебора подмножеств признаков требуют больших вычислительных ресурсов.\n",
    "2. Склонны к переобучению: Могут подстраиваться под обучающий набор, что приводит к недостаточной обобщающей способности. Можно избежать используя дополнительное разделение или (не дай бог) кросс валидацию. Тогда от компа живого места не останется"
   ]
  },
  {
   "cell_type": "markdown",
   "metadata": {},
   "source": [
    "### Методы фильтрации (например, t-stat):\n",
    "##### Преимущества:\n",
    "1. Быстрота: Рассчитывают статистические меры для каждого признака независимо от модели, что делает их вычислительно более эффективными.\n",
    "2. Простота интерпретации: Результаты фильтрации признаков обычно легко интерпретировать.\n",
    "##### Недостатки:\n",
    "1. Игнорирование взаимосвязей с целевой переменной: Фильтрация может упустить важные взаимосвязи признаков с целевой переменной, снижая точность модели.\n",
    "2. Не учитывают взаимодействие признаков: Не учитывают сложные зависимости между признаками."
   ]
  },
  {
   "cell_type": "markdown",
   "metadata": {},
   "source": [
    "### Встроенные методы:\n",
    "##### Преимущества:\n",
    "1. Учет контекста модели: Происходит отбор признаков на основе конкретной модели, что позволяет учесть особенности данной модели.\n",
    "2. Относительная скорость: Встроенные методы могут работают намного быстрее методов-обёрток.\n",
    "##### Недостатки:\n",
    "1. Ограниченность обобщения: Встроенные методы могут быть специфичными для определенного типа модели и не всегда переносимы на другие модели.\n",
    "2. Избыточность: Могут сохранять избыточные или неважные признаки, особенно если модель не чувствительна к ним."
   ]
  }
 ],
 "metadata": {
  "kernelspec": {
   "display_name": "Python 3 (ipykernel)",
   "language": "python",
   "name": "python3"
  },
  "language_info": {
   "codemirror_mode": {
    "name": "ipython",
    "version": 3
   },
   "file_extension": ".py",
   "mimetype": "text/x-python",
   "name": "python",
   "nbconvert_exporter": "python",
   "pygments_lexer": "ipython3",
   "version": "3.11.3"
  },
  "toc": {
   "base_numbering": 1,
   "nav_menu": {},
   "number_sections": true,
   "sideBar": true,
   "skip_h1_title": true,
   "title_cell": "Table of Contents",
   "title_sidebar": "Contents",
   "toc_cell": false,
   "toc_position": {},
   "toc_section_display": true,
   "toc_window_display": false
  },
  "varInspector": {
   "cols": {
    "lenName": 16,
    "lenType": 16,
    "lenVar": 40
   },
   "kernels_config": {
    "python": {
     "delete_cmd_postfix": "",
     "delete_cmd_prefix": "del ",
     "library": "var_list.py",
     "varRefreshCmd": "print(var_dic_list())"
    },
    "r": {
     "delete_cmd_postfix": ") ",
     "delete_cmd_prefix": "rm(",
     "library": "var_list.r",
     "varRefreshCmd": "cat(var_dic_list()) "
    }
   },
   "types_to_exclude": [
    "module",
    "function",
    "builtin_function_or_method",
    "instance",
    "_Feature"
   ],
   "window_display": false
  }
 },
 "nbformat": 4,
 "nbformat_minor": 2
}
